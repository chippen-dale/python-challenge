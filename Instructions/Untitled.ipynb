{
 "cells": [
  {
   "cell_type": "code",
   "execution_count": 6,
   "metadata": {},
   "outputs": [],
   "source": [
    "import os\n",
    "import csv\n",
    "\n",
    "# Path to collect data from the Resources folder\n",
    "bank_data = os.path.join('../Instructions/PyBank/', 'Resources', 'budget_data.csv')\n",
    "\n",
    "\n"
   ]
  },
  {
   "cell_type": "code",
   "execution_count": 20,
   "metadata": {},
   "outputs": [],
   "source": [
    "# Read in the CSV file\n",
    "#with open(bank_data, 'r') as csvfile:\n",
    "\n",
    "    # Split the data on commas\n",
    "   # csvreader = csv.reader(csvfile, delimiter=',')\n",
    "\n",
    "   # header = next(csvreader)\n",
    "\n",
    "    # Prompt the user for what wrestler they would like to search for\n",
    "    #name_to_check = input(\"What wrestler do you want to look for? \")\n",
    "def get_earliest_customer(bank_data):\n",
    "    contents=[]\n",
    "    \n",
    "    with open(bank_data, 'r') as csvfile:\n",
    "\n",
    "    # Split the data on commas\n",
    "        csvreader = csv.reader(csvfile, delimiter=',')\n",
    "\n",
    "        header = next(csvreader)\n",
    "    # Loop through the data\n",
    "    for row in csvreader:\n",
    "        contents = row[:-1]+[datetime.datetime.strptime(row[-1], fmt)]\n",
    "        return min(contents, key=lambda x: x[-1])\n",
    "    print(row)\n",
    "      \n",
    "        \n",
    "        "
   ]
  },
  {
   "cell_type": "code",
   "execution_count": null,
   "metadata": {},
   "outputs": [],
   "source": []
  },
  {
   "cell_type": "code",
   "execution_count": null,
   "metadata": {},
   "outputs": [],
   "source": []
  },
  {
   "cell_type": "code",
   "execution_count": null,
   "metadata": {},
   "outputs": [],
   "source": []
  }
 ],
 "metadata": {
  "kernelspec": {
   "display_name": "Python 3",
   "language": "python",
   "name": "python3"
  },
  "language_info": {
   "codemirror_mode": {
    "name": "ipython",
    "version": 3
   },
   "file_extension": ".py",
   "mimetype": "text/x-python",
   "name": "python",
   "nbconvert_exporter": "python",
   "pygments_lexer": "ipython3",
   "version": "3.7.6"
  }
 },
 "nbformat": 4,
 "nbformat_minor": 4
}
